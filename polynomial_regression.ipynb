{
  "nbformat": 4,
  "nbformat_minor": 0,
  "metadata": {
    "colab": {
      "provenance": [],
      "authorship_tag": "ABX9TyPx204htpnwIPzIKdNgap+w",
      "include_colab_link": true
    },
    "kernelspec": {
      "name": "python3",
      "display_name": "Python 3"
    },
    "language_info": {
      "name": "python"
    }
  },
  "cells": [
    {
      "cell_type": "markdown",
      "metadata": {
        "id": "view-in-github",
        "colab_type": "text"
      },
      "source": [
        "<a href=\"https://colab.research.google.com/github/Venkateshwarlu978/Venkateshwarlu978/blob/main/polynomial_regression.ipynb\" target=\"_parent\"><img src=\"https://colab.research.google.com/assets/colab-badge.svg\" alt=\"Open In Colab\"/></a>"
      ]
    },
    {
      "cell_type": "code",
      "execution_count": 1,
      "metadata": {
        "id": "AZACN2zuCRJC"
      },
      "outputs": [],
      "source": [
        "import numpy as np\n",
        "import pandas as pd\n",
        "import matplotlib.pyplot as plt"
      ]
    },
    {
      "cell_type": "code",
      "source": [
        "X=6*np.random.rand(100-1)-3\n",
        "y=0.5*X**2+1.5*X+2+np.random.randn(100-1)\n",
        "#quadratic equation used : y=0.5x^2+1.5X+2+outliers"
      ],
      "metadata": {
        "id": "qs8PtWh7Hm9U"
      },
      "execution_count": 24,
      "outputs": []
    },
    {
      "cell_type": "code",
      "source": [
        "plt.scatter(X,y,color='g')\n",
        "plt.xlabel(\"X dataset\")\n",
        "plt.ylabel(\"y dataset\")"
      ],
      "metadata": {
        "colab": {
          "base_uri": "https://localhost:8080/",
          "height": 466
        },
        "id": "COXAbswMHm7P",
        "outputId": "4f833f81-dd9d-43d9-b2b2-1002476d9683"
      },
      "execution_count": 25,
      "outputs": [
        {
          "output_type": "execute_result",
          "data": {
            "text/plain": [
              "Text(0, 0.5, 'y dataset')"
            ]
          },
          "metadata": {},
          "execution_count": 25
        },
        {
          "output_type": "display_data",
          "data": {
            "text/plain": [
              "<Figure size 640x480 with 1 Axes>"
            ],
            "image/png": "[encoded data removed]"
          },
          "metadata": {}
        }
      ]
    },
    {
      "cell_type": "code",
      "source": [
        "X = X.reshape(-1, 1)"
      ],
      "metadata": {
        "id": "pmTzY1abLBDt"
      },
      "execution_count": 26,
      "outputs": []
    },
    {
      "cell_type": "code",
      "source": [
        "X = np.expand_dims(X, axis=1)"
      ],
      "metadata": {
        "id": "9QsQhqRDLEae"
      },
      "execution_count": 27,
      "outputs": []
    },
    {
      "cell_type": "code",
      "source": [
        "from sklearn.model_selection import train_test_split\n",
        "X_train,X_test,y_train,y_test=train_test_split(X,y,test_size=0.25,random_state=42)"
      ],
      "metadata": {
        "id": "WfY9cpFSHm4w"
      },
      "execution_count": 28,
      "outputs": []
    },
    {
      "cell_type": "code",
      "source": [
        "##lets implement simple linear regression\n",
        "from sklearn.linear_model import LinearRegression\n",
        "regression_1=LinearRegression()"
      ],
      "metadata": {
        "id": "liYIH3M9Hm2O"
      },
      "execution_count": 29,
      "outputs": []
    },
    {
      "cell_type": "code",
      "source": [
        "# Suppose X_train has shape (n_samples, a, b). You can reshape to (n_samples, a*b):\n",
        "X_train = X_train.reshape(X_train.shape[0], -1)\n"
      ],
      "metadata": {
        "id": "IwY94PrBLVLK"
      },
      "execution_count": 31,
      "outputs": []
    },
    {
      "cell_type": "code",
      "source": [
        "regression_1.fit(X_train,y_train)"
      ],
      "metadata": {
        "colab": {
          "base_uri": "https://localhost:8080/",
          "height": 80
        },
        "id": "ma3_NllQHmzs",
        "outputId": "77c38444-5200-4778-e4fb-c7c753ec4cbe"
      },
      "execution_count": 32,
      "outputs": [
        {
          "output_type": "execute_result",
          "data": {
            "text/plain": [
              "LinearRegression()"
            ],
            "text/html": [
              "<style>#sk-container-id-1 {\n",
              "  /* Definition of color scheme common for light and dark mode */\n",
              "  --sklearn-color-text: #000;\n",
              "  --sklearn-color-text-muted: #666;\n",
              "  --sklearn-color-line: gray;\n",
              "  /* Definition of color scheme for unfitted estimators */\n",
              "  --sklearn-color-unfitted-level-0: #fff5e6;\n",
              "  --sklearn-color-unfitted-level-1: #f6e4d2;\n",
              "  --sklearn-color-unfitted-level-2: #ffe0b3;\n",
              "  --sklearn-color-unfitted-level-3: chocolate;\n",
              "  /* Definition of color scheme for fitted estimators */\n",
              "  --sklearn-color-fitted-level-0: #f0f8ff;\n",
              "  --sklearn-color-fitted-level-1: #d4ebff;\n",
              "  --sklearn-color-fitted-level-2: #b3dbfd;\n",
              "  --sklearn-color-fitted-level-3: cornflowerblue;\n",
              "\n",
              "  /* Specific color for light theme */\n",
              "  --sklearn-color-text-on-default-background: var(--sg-text-color, var(--theme-code-foreground, var(--jp-content-font-color1, black)));\n",
              "  --sklearn-color-background: var(--sg-background-color, var(--theme-background, var(--jp-layout-color0, white)));\n",
              "  --sklearn-color-border-box: var(--sg-text-color, var(--theme-code-foreground, var(--jp-content-font-color1, black)));\n",
              "  --sklearn-color-icon: #696969;\n",
              "\n",
              "  @media (prefers-color-scheme: dark) {\n",
              "    /* Redefinition of color scheme for dark theme */\n",
              "    --sklearn-color-text-on-default-background: var(--sg-text-color, var(--theme-code-foreground, var(--jp-content-font-color1, white)));\n",
              "    --sklearn-color-background: var(--sg-background-color, var(--theme-background, var(--jp-layout-color0, #111)));\n",
              "    --sklearn-color-border-box: var(--sg-text-color, var(--theme-code-foreground, var(--jp-content-font-color1, white)));\n",
              "    --sklearn-color-icon: #878787;\n",
              "  }\n",
              "}\n",
              "\n",
              "#sk-container-id-1 {\n",
              "  color: var(--sklearn-color-text);\n",
              "}\n",
              "\n",
              "#sk-container-id-1 pre {\n",
              "  padding: 0;\n",
              "}\n",
              "\n",
              "#sk-container-id-1 input.sk-hidden--visually {\n",
              "  border: 0;\n",
              "  clip: rect(1px 1px 1px 1px);\n",
              "  clip: rect(1px, 1px, 1px, 1px);\n",
              "  height: 1px;\n",
              "  margin: -1px;\n",
              "  overflow: hidden;\n",
              "  padding: 0;\n",
              "  position: absolute;\n",
              "  width: 1px;\n",
              "}\n",
              "\n",
              "#sk-container-id-1 div.sk-dashed-wrapped {\n",
              "  border: 1px dashed var(--sklearn-color-line);\n",
              "  margin: 0 0.4em 0.5em 0.4em;\n",
              "  box-sizing: border-box;\n",
              "  padding-bottom: 0.4em;\n",
              "  background-color: var(--sklearn-color-background);\n",
              "}\n",
              "\n",
              "#sk-container-id-1 div.sk-container {\n",
              "  /* jupyter's `normalize.less` sets `[hidden] { display: none; }`\n",
              "     but bootstrap.min.css set `[hidden] { display: none !important; }`\n",
              "     so we also need the `!important` here to be able to override the\n",
              "     default hidden behavior on the sphinx rendered scikit-learn.org.\n",
              "     See: https://github.com/scikit-learn/scikit-learn/issues/21755 */\n",
              "  display: inline-block !important;\n",
              "  position: relative;\n",
              "}\n",
              "\n",
              "#sk-container-id-1 div.sk-text-repr-fallback {\n",
              "  display: none;\n",
              "}\n",
              "\n",
              "div.sk-parallel-item,\n",
              "div.sk-serial,\n",
              "div.sk-item {\n",
              "  /* draw centered vertical line to link estimators */\n",
              "  background-image: linear-gradient(var(--sklearn-color-text-on-default-background), var(--sklearn-color-text-on-default-background));\n",
              "  background-size: 2px 100%;\n",
              "  background-repeat: no-repeat;\n",
              "  background-position: center center;\n",
              "}\n",
              "\n",
              "/* Parallel-specific style estimator block */\n",
              "\n",
              "#sk-container-id-1 div.sk-parallel-item::after {\n",
              "  content: \"\";\n",
              "  width: 100%;\n",
              "  border-bottom: 2px solid var(--sklearn-color-text-on-default-background);\n",
              "  flex-grow: 1;\n",
              "}\n",
              "\n",
              "#sk-container-id-1 div.sk-parallel {\n",
              "  display: flex;\n",
              "  align-items: stretch;\n",
              "  justify-content: center;\n",
              "  background-color: var(--sklearn-color-background);\n",
              "  position: relative;\n",
              "}\n",
              "\n",
              "#sk-container-id-1 div.sk-parallel-item {\n",
              "  display: flex;\n",
              "  flex-direction: column;\n",
              "}\n",
              "\n",
              "#sk-container-id-1 div.sk-parallel-item:first-child::after {\n",
              "  align-self: flex-end;\n",
              "  width: 50%;\n",
              "}\n",
              "\n",
              "#sk-container-id-1 div.sk-parallel-item:last-child::after {\n",
              "  align-self: flex-start;\n",
              "  width: 50%;\n",
              "}\n",
              "\n",
              "#sk-container-id-1 div.sk-parallel-item:only-child::after {\n",
              "  width: 0;\n",
              "}\n",
              "\n",
              "/* Serial-specific style estimator block */\n",
              "\n",
              "#sk-container-id-1 div.sk-serial {\n",
              "  display: flex;\n",
              "  flex-direction: column;\n",
              "  align-items: center;\n",
              "  background-color: var(--sklearn-color-background);\n",
              "  padding-right: 1em;\n",
              "  padding-left: 1em;\n",
              "}\n",
              "\n",
              "\n",
              "/* Toggleable style: style used for estimator/Pipeline/ColumnTransformer box that is\n",
              "clickable and can be expanded/collapsed.\n",
              "- Pipeline and ColumnTransformer use this feature and define the default style\n",
              "- Estimators will overwrite some part of the style using the `sk-estimator` class\n",
              "*/\n",
              "\n",
              "/* Pipeline and ColumnTransformer style (default) */\n",
              "\n",
              "#sk-container-id-1 div.sk-toggleable {\n",
              "  /* Default theme specific background. It is overwritten whether we have a\n",
              "  specific estimator or a Pipeline/ColumnTransformer */\n",
              "  background-color: var(--sklearn-color-background);\n",
              "}\n",
              "\n",
              "/* Toggleable label */\n",
              "#sk-container-id-1 label.sk-toggleable__label {\n",
              "  cursor: pointer;\n",
              "  display: flex;\n",
              "  width: 100%;\n",
              "  margin-bottom: 0;\n",
              "  padding: 0.5em;\n",
              "  box-sizing: border-box;\n",
              "  text-align: center;\n",
              "  align-items: start;\n",
              "  justify-content: space-between;\n",
              "  gap: 0.5em;\n",
              "}\n",
              "\n",
              "#sk-container-id-1 label.sk-toggleable__label .caption {\n",
              "  font-size: 0.6rem;\n",
              "  font-weight: lighter;\n",
              "  color: var(--sklearn-color-text-muted);\n",
              "}\n",
              "\n",
              "#sk-container-id-1 label.sk-toggleable__label-arrow:before {\n",
              "  /* Arrow on the left of the label */\n",
              "  content: \"▸\";\n",
              "  float: left;\n",
              "  margin-right: 0.25em;\n",
              "  color: var(--sklearn-color-icon);\n",
              "}\n",
              "\n",
              "#sk-container-id-1 label.sk-toggleable__label-arrow:hover:before {\n",
              "  color: var(--sklearn-color-text);\n",
              "}\n",
              "\n",
              "/* Toggleable content - dropdown */\n",
              "\n",
              "#sk-container-id-1 div.sk-toggleable__content {\n",
              "  max-height: 0;\n",
              "  max-width: 0;\n",
              "  overflow: hidden;\n",
              "  text-align: left;\n",
              "  /* unfitted */\n",
              "  background-color: var(--sklearn-color-unfitted-level-0);\n",
              "}\n",
              "\n",
              "#sk-container-id-1 div.sk-toggleable__content.fitted {\n",
              "  /* fitted */\n",
              "  background-color: var(--sklearn-color-fitted-level-0);\n",
              "}\n",
              "\n",
              "#sk-container-id-1 div.sk-toggleable__content pre {\n",
              "  margin: 0.2em;\n",
              "  border-radius: 0.25em;\n",
              "  color: var(--sklearn-color-text);\n",
              "  /* unfitted */\n",
              "  background-color: var(--sklearn-color-unfitted-level-0);\n",
              "}\n",
              "\n",
              "#sk-container-id-1 div.sk-toggleable__content.fitted pre {\n",
              "  /* unfitted */\n",
              "  background-color: var(--sklearn-color-fitted-level-0);\n",
              "}\n",
              "\n",
              "#sk-container-id-1 input.sk-toggleable__control:checked~div.sk-toggleable__content {\n",
              "  /* Expand drop-down */\n",
              "  max-height: 200px;\n",
              "  max-width: 100%;\n",
              "  overflow: auto;\n",
              "}\n",
              "\n",
              "#sk-container-id-1 input.sk-toggleable__control:checked~label.sk-toggleable__label-arrow:before {\n",
              "  content: \"▾\";\n",
              "}\n",
              "\n",
              "/* Pipeline/ColumnTransformer-specific style */\n",
              "\n",
              "#sk-container-id-1 div.sk-label input.sk-toggleable__control:checked~label.sk-toggleable__label {\n",
              "  color: var(--sklearn-color-text);\n",
              "  background-color: var(--sklearn-color-unfitted-level-2);\n",
              "}\n",
              "\n",
              "#sk-container-id-1 div.sk-label.fitted input.sk-toggleable__control:checked~label.sk-toggleable__label {\n",
              "  background-color: var(--sklearn-color-fitted-level-2);\n",
              "}\n",
              "\n",
              "/* Estimator-specific style */\n",
              "\n",
              "/* Colorize estimator box */\n",
              "#sk-container-id-1 div.sk-estimator input.sk-toggleable__control:checked~label.sk-toggleable__label {\n",
              "  /* unfitted */\n",
              "  background-color: var(--sklearn-color-unfitted-level-2);\n",
              "}\n",
              "\n",
              "#sk-container-id-1 div.sk-estimator.fitted input.sk-toggleable__control:checked~label.sk-toggleable__label {\n",
              "  /* fitted */\n",
              "  background-color: var(--sklearn-color-fitted-level-2);\n",
              "}\n",
              "\n",
              "#sk-container-id-1 div.sk-label label.sk-toggleable__label,\n",
              "#sk-container-id-1 div.sk-label label {\n",
              "  /* The background is the default theme color */\n",
              "  color: var(--sklearn-color-text-on-default-background);\n",
              "}\n",
              "\n",
              "/* On hover, darken the color of the background */\n",
              "#sk-container-id-1 div.sk-label:hover label.sk-toggleable__label {\n",
              "  color: var(--sklearn-color-text);\n",
              "  background-color: var(--sklearn-color-unfitted-level-2);\n",
              "}\n",
              "\n",
              "/* Label box, darken color on hover, fitted */\n",
              "#sk-container-id-1 div.sk-label.fitted:hover label.sk-toggleable__label.fitted {\n",
              "  color: var(--sklearn-color-text);\n",
              "  background-color: var(--sklearn-color-fitted-level-2);\n",
              "}\n",
              "\n",
              "/* Estimator label */\n",
              "\n",
              "#sk-container-id-1 div.sk-label label {\n",
              "  font-family: monospace;\n",
              "  font-weight: bold;\n",
              "  display: inline-block;\n",
              "  line-height: 1.2em;\n",
              "}\n",
              "\n",
              "#sk-container-id-1 div.sk-label-container {\n",
              "  text-align: center;\n",
              "}\n",
              "\n",
              "/* Estimator-specific */\n",
              "#sk-container-id-1 div.sk-estimator {\n",
              "  font-family: monospace;\n",
              "  border: 1px dotted var(--sklearn-color-border-box);\n",
              "  border-radius: 0.25em;\n",
              "  box-sizing: border-box;\n",
              "  margin-bottom: 0.5em;\n",
              "  /* unfitted */\n",
              "  background-color: var(--sklearn-color-unfitted-level-0);\n",
              "}\n",
              "\n",
              "#sk-container-id-1 div.sk-estimator.fitted {\n",
              "  /* fitted */\n",
              "  background-color: var(--sklearn-color-fitted-level-0);\n",
              "}\n",
              "\n",
              "/* on hover */\n",
              "#sk-container-id-1 div.sk-estimator:hover {\n",
              "  /* unfitted */\n",
              "  background-color: var(--sklearn-color-unfitted-level-2);\n",
              "}\n",
              "\n",
              "#sk-container-id-1 div.sk-estimator.fitted:hover {\n",
              "  /* fitted */\n",
              "  background-color: var(--sklearn-color-fitted-level-2);\n",
              "}\n",
              "\n",
              "/* Specification for estimator info (e.g. \"i\" and \"?\") */\n",
              "\n",
              "/* Common style for \"i\" and \"?\" */\n",
              "\n",
              ".sk-estimator-doc-link,\n",
              "a:link.sk-estimator-doc-link,\n",
              "a:visited.sk-estimator-doc-link {\n",
              "  float: right;\n",
              "  font-size: smaller;\n",
              "  line-height: 1em;\n",
              "  font-family: monospace;\n",
              "  background-color: var(--sklearn-color-background);\n",
              "  border-radius: 1em;\n",
              "  height: 1em;\n",
              "  width: 1em;\n",
              "  text-decoration: none !important;\n",
              "  margin-left: 0.5em;\n",
              "  text-align: center;\n",
              "  /* unfitted */\n",
              "  border: var(--sklearn-color-unfitted-level-1) 1pt solid;\n",
              "  color: var(--sklearn-color-unfitted-level-1);\n",
              "}\n",
              "\n",
              ".sk-estimator-doc-link.fitted,\n",
              "a:link.sk-estimator-doc-link.fitted,\n",
              "a:visited.sk-estimator-doc-link.fitted {\n",
              "  /* fitted */\n",
              "  border: var(--sklearn-color-fitted-level-1) 1pt solid;\n",
              "  color: var(--sklearn-color-fitted-level-1);\n",
              "}\n",
              "\n",
              "/* On hover */\n",
              "div.sk-estimator:hover .sk-estimator-doc-link:hover,\n",
              ".sk-estimator-doc-link:hover,\n",
              "div.sk-label-container:hover .sk-estimator-doc-link:hover,\n",
              ".sk-estimator-doc-link:hover {\n",
              "  /* unfitted */\n",
              "  background-color: var(--sklearn-color-unfitted-level-3);\n",
              "  color: var(--sklearn-color-background);\n",
              "  text-decoration: none;\n",
              "}\n",
              "\n",
              "div.sk-estimator.fitted:hover .sk-estimator-doc-link.fitted:hover,\n",
              ".sk-estimator-doc-link.fitted:hover,\n",
              "div.sk-label-container:hover .sk-estimator-doc-link.fitted:hover,\n",
              ".sk-estimator-doc-link.fitted:hover {\n",
              "  /* fitted */\n",
              "  background-color: var(--sklearn-color-fitted-level-3);\n",
              "  color: var(--sklearn-color-background);\n",
              "  text-decoration: none;\n",
              "}\n",
              "\n",
              "/* Span, style for the box shown on hovering the info icon */\n",
              ".sk-estimator-doc-link span {\n",
              "  display: none;\n",
              "  z-index: 9999;\n",
              "  position: relative;\n",
              "  font-weight: normal;\n",
              "  right: .2ex;\n",
              "  padding: .5ex;\n",
              "  margin: .5ex;\n",
              "  width: min-content;\n",
              "  min-width: 20ex;\n",
              "  max-width: 50ex;\n",
              "  color: var(--sklearn-color-text);\n",
              "  box-shadow: 2pt 2pt 4pt #999;\n",
              "  /* unfitted */\n",
              "  background: var(--sklearn-color-unfitted-level-0);\n",
              "  border: .5pt solid var(--sklearn-color-unfitted-level-3);\n",
              "}\n",
              "\n",
              ".sk-estimator-doc-link.fitted span {\n",
              "  /* fitted */\n",
              "  background: var(--sklearn-color-fitted-level-0);\n",
              "  border: var(--sklearn-color-fitted-level-3);\n",
              "}\n",
              "\n",
              ".sk-estimator-doc-link:hover span {\n",
              "  display: block;\n",
              "}\n",
              "\n",
              "/* \"?\"-specific style due to the `<a>` HTML tag */\n",
              "\n",
              "#sk-container-id-1 a.estimator_doc_link {\n",
              "  float: right;\n",
              "  font-size: 1rem;\n",
              "  line-height: 1em;\n",
              "  font-family: monospace;\n",
              "  background-color: var(--sklearn-color-background);\n",
              "  border-radius: 1rem;\n",
              "  height: 1rem;\n",
              "  width: 1rem;\n",
              "  text-decoration: none;\n",
              "  /* unfitted */\n",
              "  color: var(--sklearn-color-unfitted-level-1);\n",
              "  border: var(--sklearn-color-unfitted-level-1) 1pt solid;\n",
              "}\n",
              "\n",
              "#sk-container-id-1 a.estimator_doc_link.fitted {\n",
              "  /* fitted */\n",
              "  border: var(--sklearn-color-fitted-level-1) 1pt solid;\n",
              "  color: var(--sklearn-color-fitted-level-1);\n",
              "}\n",
              "\n",
              "/* On hover */\n",
              "#sk-container-id-1 a.estimator_doc_link:hover {\n",
              "  /* unfitted */\n",
              "  background-color: var(--sklearn-color-unfitted-level-3);\n",
              "  color: var(--sklearn-color-background);\n",
              "  text-decoration: none;\n",
              "}\n",
              "\n",
              "#sk-container-id-1 a.estimator_doc_link.fitted:hover {\n",
              "  /* fitted */\n",
              "  background-color: var(--sklearn-color-fitted-level-3);\n",
              "}\n",
              "</style><div id=\"sk-container-id-1\" class=\"sk-top-container\"><div class=\"sk-text-repr-fallback\"><pre>LinearRegression()</pre><b>In a Jupyter environment, please rerun this cell to show the HTML representation or trust the notebook. <br />On GitHub, the HTML representation is unable to render, please try loading this page with nbviewer.org.</b></div><div class=\"sk-container\" hidden><div class=\"sk-item\"><div class=\"sk-estimator fitted sk-toggleable\"><input class=\"sk-toggleable__control sk-hidden--visually\" id=\"sk-estimator-id-1\" type=\"checkbox\" checked><label for=\"sk-estimator-id-1\" class=\"sk-toggleable__label fitted sk-toggleable__label-arrow\"><div><div>LinearRegression</div></div><div><a class=\"sk-estimator-doc-link fitted\" rel=\"noreferrer\" target=\"_blank\" href=\"https://scikit-learn.org/1.6/modules/generated/sklearn.linear_model.LinearRegression.html\">?<span>Documentation for LinearRegression</span></a><span class=\"sk-estimator-doc-link fitted\">i<span>Fitted</span></span></div></label><div class=\"sk-toggleable__content fitted\"><pre>LinearRegression()</pre></div> </div></div></div></div>"
            ]
          },
          "metadata": {},
          "execution_count": 32
        }
      ]
    },
    {
      "cell_type": "code",
      "source": [
        "X_test2 = X_test.reshape(X_test.shape[0], -1)\n",
        "# or equivalently: X_test2 = X_test.reshape(n, a*b)\n"
      ],
      "metadata": {
        "id": "c2UMLnS6MKbo"
      },
      "execution_count": 35,
      "outputs": []
    },
    {
      "cell_type": "code",
      "source": [
        "from sklearn.metrics import r2_score\n",
        "sscore=r2_score(y_test,regression_1.predict(X_test2))\n",
        "print(sscore)"
      ],
      "metadata": {
        "colab": {
          "base_uri": "https://localhost:8080/"
        },
        "id": "uK9PzsYZHmw0",
        "outputId": "5125f568-a1b9-4d4a-e2b4-b20e1282dea2"
      },
      "execution_count": 37,
      "outputs": [
        {
          "output_type": "stream",
          "name": "stdout",
          "text": [
            "0.7283212465769371\n"
          ]
        }
      ]
    },
    {
      "cell_type": "code",
      "source": [
        "#lets visualize this\n",
        "plt.plot(X_train,regression_1.predict(X_train),color='r')\n",
        "plt.scatter(X_train,y_train)"
      ],
      "metadata": {
        "colab": {
          "base_uri": "https://localhost:8080/",
          "height": 447
        },
        "id": "2H9BWZuJHmuK",
        "outputId": "dcd38eab-1733-4fe9-9f7f-0b9672c563ae"
      },
      "execution_count": 38,
      "outputs": [
        {
          "output_type": "execute_result",
          "data": {
            "text/plain": [
              "<matplotlib.collections.PathCollection at 0x7cb53d2a19a0>"
            ]
          },
          "metadata": {},
          "execution_count": 38
        },
        {
          "output_type": "display_data",
          "data": {
            "text/plain": [
              "<Figure size 640x480 with 1 Axes>"
            ],
            "image/png": "[encoded data removed]"
          },
          "metadata": {}
        }
      ]
    },
    {
      "cell_type": "code",
      "source": [
        "##Solving this with the help of polynomial regression\n",
        "from sklearn.preprocessing import PolynomialFeatures"
      ],
      "metadata": {
        "id": "jnPorgBvHmri"
      },
      "execution_count": 40,
      "outputs": []
    },
    {
      "cell_type": "code",
      "source": [
        "poly=PolynomialFeatures(degree=2,include_bias=True)\n",
        "X_train_poly=poly.fit_transform(X_train)\n",
        "X_test_poly=poly.transform(X_test2)"
      ],
      "metadata": {
        "id": "80MzkMPIHmoy"
      },
      "execution_count": 45,
      "outputs": []
    },
    {
      "cell_type": "code",
      "source": [
        "X_train_poly"
      ],
      "metadata": {
        "colab": {
          "base_uri": "https://localhost:8080/"
        },
        "id": "atPIYPUeHmmA",
        "outputId": "25dfcf2e-15e6-446d-ca50-65bf2d960c0c"
      },
      "execution_count": 46,
      "outputs": [
        {
          "output_type": "execute_result",
          "data": {
            "text/plain": [
              "array([[ 1.00000000e+00, -2.42184970e+00,  5.86535598e+00],\n",
              "       [ 1.00000000e+00, -2.15594923e+00,  4.64811710e+00],\n",
              "       [ 1.00000000e+00,  1.68161431e+00,  2.82782669e+00],\n",
              "       [ 1.00000000e+00,  2.97699664e+00,  8.86250900e+00],\n",
              "       [ 1.00000000e+00, -2.95782917e+00,  8.74875342e+00],\n",
              "       [ 1.00000000e+00, -3.90134612e-01,  1.52205015e-01],\n",
              "       [ 1.00000000e+00, -4.43588111e-01,  1.96770412e-01],\n",
              "       [ 1.00000000e+00,  1.57748088e+00,  2.48844592e+00],\n",
              "       [ 1.00000000e+00,  2.41591820e+00,  5.83666073e+00],\n",
              "       [ 1.00000000e+00,  8.13662172e-01,  6.62046130e-01],\n",
              "       [ 1.00000000e+00, -6.67651577e-01,  4.45758629e-01],\n",
              "       [ 1.00000000e+00, -2.91389397e+00,  8.49077809e+00],\n",
              "       [ 1.00000000e+00,  6.47180365e-01,  4.18842425e-01],\n",
              "       [ 1.00000000e+00,  1.40489255e+00,  1.97372308e+00],\n",
              "       [ 1.00000000e+00, -1.36859264e-01,  1.87304583e-02],\n",
              "       [ 1.00000000e+00, -4.52431287e-01,  2.04694070e-01],\n",
              "       [ 1.00000000e+00, -9.40636840e-01,  8.84797665e-01],\n",
              "       [ 1.00000000e+00,  2.11320948e+00,  4.46565431e+00],\n",
              "       [ 1.00000000e+00, -1.65754476e-01,  2.74745464e-02],\n",
              "       [ 1.00000000e+00, -2.17774571e+00,  4.74257636e+00],\n",
              "       [ 1.00000000e+00, -1.00221142e+00,  1.00442774e+00],\n",
              "       [ 1.00000000e+00,  2.51586930e+00,  6.32959832e+00],\n",
              "       [ 1.00000000e+00, -3.31990800e-01,  1.10217891e-01],\n",
              "       [ 1.00000000e+00,  2.21091543e+00,  4.88814706e+00],\n",
              "       [ 1.00000000e+00, -1.96025839e+00,  3.84261296e+00],\n",
              "       [ 1.00000000e+00, -2.43956281e+00,  5.95146669e+00],\n",
              "       [ 1.00000000e+00,  1.62665600e+00,  2.64600975e+00],\n",
              "       [ 1.00000000e+00,  2.20338273e+00,  4.85489546e+00],\n",
              "       [ 1.00000000e+00,  3.03541403e-01,  9.21373835e-02],\n",
              "       [ 1.00000000e+00,  2.24090194e+00,  5.02164151e+00],\n",
              "       [ 1.00000000e+00, -2.79344052e+00,  7.80330992e+00],\n",
              "       [ 1.00000000e+00, -1.54537052e+00,  2.38817004e+00],\n",
              "       [ 1.00000000e+00, -1.46093425e+00,  2.13432889e+00],\n",
              "       [ 1.00000000e+00,  1.17999156e+00,  1.39238009e+00],\n",
              "       [ 1.00000000e+00,  7.13478823e-02,  5.09052031e-03],\n",
              "       [ 1.00000000e+00, -1.02668588e+00,  1.05408389e+00],\n",
              "       [ 1.00000000e+00,  3.83998754e-01,  1.47455043e-01],\n",
              "       [ 1.00000000e+00, -2.32223304e+00,  5.39276631e+00],\n",
              "       [ 1.00000000e+00, -1.45677288e+00,  2.12218722e+00],\n",
              "       [ 1.00000000e+00,  1.21402660e+00,  1.47386059e+00],\n",
              "       [ 1.00000000e+00, -1.93168187e+00,  3.73139486e+00],\n",
              "       [ 1.00000000e+00,  9.02334246e-01,  8.14207092e-01],\n",
              "       [ 1.00000000e+00, -1.99473688e+00,  3.97897522e+00],\n",
              "       [ 1.00000000e+00,  2.13333509e+00,  4.55111861e+00],\n",
              "       [ 1.00000000e+00, -5.24764207e-01,  2.75377473e-01],\n",
              "       [ 1.00000000e+00, -2.30945323e+00,  5.33357421e+00],\n",
              "       [ 1.00000000e+00, -2.42725899e-01,  5.89158619e-02],\n",
              "       [ 1.00000000e+00,  2.93187718e+00,  8.59590379e+00],\n",
              "       [ 1.00000000e+00,  1.42074529e+00,  2.01851719e+00],\n",
              "       [ 1.00000000e+00,  2.68710981e+00,  7.22055914e+00],\n",
              "       [ 1.00000000e+00, -8.38970062e-02,  7.03870765e-03],\n",
              "       [ 1.00000000e+00,  2.29291151e+00,  5.25744320e+00],\n",
              "       [ 1.00000000e+00, -2.50594936e+00,  6.27978219e+00],\n",
              "       [ 1.00000000e+00,  2.78380399e+00,  7.74956465e+00],\n",
              "       [ 1.00000000e+00,  1.34877274e+00,  1.81918791e+00],\n",
              "       [ 1.00000000e+00,  2.52086942e+00,  6.35478263e+00],\n",
              "       [ 1.00000000e+00,  7.41850963e-01,  5.50342851e-01],\n",
              "       [ 1.00000000e+00,  2.73450874e+00,  7.47753804e+00],\n",
              "       [ 1.00000000e+00,  2.27781673e+00,  5.18844907e+00],\n",
              "       [ 1.00000000e+00,  2.76352437e+00,  7.63706696e+00],\n",
              "       [ 1.00000000e+00,  2.67176977e+00,  7.13835369e+00],\n",
              "       [ 1.00000000e+00, -2.97531199e+00,  8.85248144e+00],\n",
              "       [ 1.00000000e+00, -1.59189183e+00,  2.53411959e+00],\n",
              "       [ 1.00000000e+00,  5.51850420e-01,  3.04538886e-01],\n",
              "       [ 1.00000000e+00, -2.15612361e+00,  4.64886903e+00],\n",
              "       [ 1.00000000e+00,  2.53044650e+00,  6.40315951e+00],\n",
              "       [ 1.00000000e+00, -2.26923103e-01,  5.14940946e-02],\n",
              "       [ 1.00000000e+00,  2.22159621e+00,  4.93548974e+00],\n",
              "       [ 1.00000000e+00,  2.68008341e+00,  7.18284706e+00],\n",
              "       [ 1.00000000e+00, -2.58773304e+00,  6.69636229e+00],\n",
              "       [ 1.00000000e+00, -2.98223468e+00,  8.89372369e+00],\n",
              "       [ 1.00000000e+00,  2.25115510e+00,  5.06769929e+00],\n",
              "       [ 1.00000000e+00,  2.82822093e+00,  7.99883364e+00],\n",
              "       [ 1.00000000e+00,  2.34115455e+00,  5.48100462e+00]])"
            ]
          },
          "metadata": {},
          "execution_count": 46
        }
      ]
    },
    {
      "cell_type": "code",
      "source": [
        "from sklearn.metrics import r2_score\n",
        "regression=LinearRegression()\n",
        "regression.fit(X_train_poly,y_train)\n",
        "y_pred=regression.predict(X_test_poly)\n",
        "score=r2_score(y_test,y_pred)\n",
        "print(score)"
      ],
      "metadata": {
        "colab": {
          "base_uri": "https://localhost:8080/"
        },
        "id": "AIyKXAglQIZa",
        "outputId": "22f9b0db-c5d5-4c25-b178-2b3f81cdc706"
      },
      "execution_count": 47,
      "outputs": [
        {
          "output_type": "stream",
          "name": "stdout",
          "text": [
            "0.8964120604040897\n"
          ]
        }
      ]
    },
    {
      "cell_type": "code",
      "source": [
        "plt.scatter(X_train,regression.predict(X_train_poly))\n",
        "plt.scatter(X_train,y_train)"
      ],
      "metadata": {
        "colab": {
          "base_uri": "https://localhost:8080/",
          "height": 447
        },
        "id": "T14DRi_dQ13X",
        "outputId": "3a84616b-20fd-416c-fbdb-059dc0907086"
      },
      "execution_count": 55,
      "outputs": [
        {
          "output_type": "execute_result",
          "data": {
            "text/plain": [
              "<matplotlib.collections.PathCollection at 0x7cb53c920bf0>"
            ]
          },
          "metadata": {},
          "execution_count": 55
        },
        {
          "output_type": "display_data",
          "data": {
            "text/plain": [
              "<Figure size 640x480 with 1 Axes>"
            ],
            "image/png": "[encoded data removed]"
          },
          "metadata": {}
        }
      ]
    },
    {
      "cell_type": "code",
      "source": [
        "#lets degree=3\n",
        "poly=PolynomialFeatures(degree=3,include_bias=True)\n",
        "X_train_poly=poly.fit_transform(X_train)\n",
        "X_test_poly=poly.transform(X_test2)"
      ],
      "metadata": {
        "id": "yJUdEt8mRuXK"
      },
      "execution_count": 63,
      "outputs": []
    },
    {
      "cell_type": "code",
      "source": [
        "X_train_poly # now we are getting 4 features"
      ],
      "metadata": {
        "colab": {
          "base_uri": "https://localhost:8080/"
        },
        "id": "Yfatb2K-R3LS",
        "outputId": "05b44cf4-3679-4b0a-9d4d-ee8e18838592"
      },
      "execution_count": 64,
      "outputs": [
        {
          "output_type": "execute_result",
          "data": {
            "text/plain": [
              "array([[ 1.00000000e+00, -2.42184970e+00,  5.86535598e+00,\n",
              "        -1.42050106e+01],\n",
              "       [ 1.00000000e+00, -2.15594923e+00,  4.64811710e+00,\n",
              "        -1.00211045e+01],\n",
              "       [ 1.00000000e+00,  1.68161431e+00,  2.82782669e+00,\n",
              "         4.75531384e+00],\n",
              "       [ 1.00000000e+00,  2.97699664e+00,  8.86250900e+00,\n",
              "         2.63836595e+01],\n",
              "       [ 1.00000000e+00, -2.95782917e+00,  8.74875342e+00,\n",
              "        -2.58773181e+01],\n",
              "       [ 1.00000000e+00, -3.90134612e-01,  1.52205015e-01,\n",
              "        -5.93804446e-02],\n",
              "       [ 1.00000000e+00, -4.43588111e-01,  1.96770412e-01,\n",
              "        -8.72850152e-02],\n",
              "       [ 1.00000000e+00,  1.57748088e+00,  2.48844592e+00,\n",
              "         3.92547586e+00],\n",
              "       [ 1.00000000e+00,  2.41591820e+00,  5.83666073e+00,\n",
              "         1.41008949e+01],\n",
              "       [ 1.00000000e+00,  8.13662172e-01,  6.62046130e-01,\n",
              "         5.38681892e-01],\n",
              "       [ 1.00000000e+00, -6.67651577e-01,  4.45758629e-01,\n",
              "        -2.97611452e-01],\n",
              "       [ 1.00000000e+00, -2.91389397e+00,  8.49077809e+00,\n",
              "        -2.47412271e+01],\n",
              "       [ 1.00000000e+00,  6.47180365e-01,  4.18842425e-01,\n",
              "         2.71066593e-01],\n",
              "       [ 1.00000000e+00,  1.40489255e+00,  1.97372308e+00,\n",
              "         2.77286886e+00],\n",
              "       [ 1.00000000e+00, -1.36859264e-01,  1.87304583e-02,\n",
              "        -2.56343674e-03],\n",
              "       [ 1.00000000e+00, -4.52431287e-01,  2.04694070e-01,\n",
              "        -9.26100014e-02],\n",
              "       [ 1.00000000e+00, -9.40636840e-01,  8.84797665e-01,\n",
              "        -8.32273280e-01],\n",
              "       [ 1.00000000e+00,  2.11320948e+00,  4.46565431e+00,\n",
              "         9.43686303e+00],\n",
              "       [ 1.00000000e+00, -1.65754476e-01,  2.74745464e-02,\n",
              "        -4.55402904e-03],\n",
              "       [ 1.00000000e+00, -2.17774571e+00,  4.74257636e+00,\n",
              "        -1.03281253e+01],\n",
              "       [ 1.00000000e+00, -1.00221142e+00,  1.00442774e+00,\n",
              "        -1.00664895e+00],\n",
              "       [ 1.00000000e+00,  2.51586930e+00,  6.32959832e+00,\n",
              "         1.59244421e+01],\n",
              "       [ 1.00000000e+00, -3.31990800e-01,  1.10217891e-01,\n",
              "        -3.65913260e-02],\n",
              "       [ 1.00000000e+00,  2.21091543e+00,  4.88814706e+00,\n",
              "         1.08072798e+01],\n",
              "       [ 1.00000000e+00, -1.96025839e+00,  3.84261296e+00,\n",
              "        -7.53251430e+00],\n",
              "       [ 1.00000000e+00, -2.43956281e+00,  5.95146669e+00,\n",
              "        -1.45189768e+01],\n",
              "       [ 1.00000000e+00,  1.62665600e+00,  2.64600975e+00,\n",
              "         4.30414763e+00],\n",
              "       [ 1.00000000e+00,  2.20338273e+00,  4.85489546e+00,\n",
              "         1.06971928e+01],\n",
              "       [ 1.00000000e+00,  3.03541403e-01,  9.21373835e-02,\n",
              "         2.79675107e-02],\n",
              "       [ 1.00000000e+00,  2.24090194e+00,  5.02164151e+00,\n",
              "         1.12530062e+01],\n",
              "       [ 1.00000000e+00, -2.79344052e+00,  7.80330992e+00,\n",
              "        -2.17980821e+01],\n",
              "       [ 1.00000000e+00, -1.54537052e+00,  2.38817004e+00,\n",
              "        -3.69060757e+00],\n",
              "       [ 1.00000000e+00, -1.46093425e+00,  2.13432889e+00,\n",
              "        -3.11811418e+00],\n",
              "       [ 1.00000000e+00,  1.17999156e+00,  1.39238009e+00,\n",
              "         1.64299676e+00],\n",
              "       [ 1.00000000e+00,  7.13478823e-02,  5.09052031e-03,\n",
              "         3.63197844e-04],\n",
              "       [ 1.00000000e+00, -1.02668588e+00,  1.05408389e+00,\n",
              "        -1.08221304e+00],\n",
              "       [ 1.00000000e+00,  3.83998754e-01,  1.47455043e-01,\n",
              "         5.66225530e-02],\n",
              "       [ 1.00000000e+00, -2.32223304e+00,  5.39276631e+00,\n",
              "        -1.25232601e+01],\n",
              "       [ 1.00000000e+00, -1.45677288e+00,  2.12218722e+00,\n",
              "        -3.09154480e+00],\n",
              "       [ 1.00000000e+00,  1.21402660e+00,  1.47386059e+00,\n",
              "         1.78930597e+00],\n",
              "       [ 1.00000000e+00, -1.93168187e+00,  3.73139486e+00,\n",
              "        -7.20786782e+00],\n",
              "       [ 1.00000000e+00,  9.02334246e-01,  8.14207092e-01,\n",
              "         7.34686943e-01],\n",
              "       [ 1.00000000e+00, -1.99473688e+00,  3.97897522e+00,\n",
              "        -7.93700862e+00],\n",
              "       [ 1.00000000e+00,  2.13333509e+00,  4.55111861e+00,\n",
              "         9.70906103e+00],\n",
              "       [ 1.00000000e+00, -5.24764207e-01,  2.75377473e-01,\n",
              "        -1.44508242e-01],\n",
              "       [ 1.00000000e+00, -2.30945323e+00,  5.33357421e+00,\n",
              "        -1.23176402e+01],\n",
              "       [ 1.00000000e+00, -2.42725899e-01,  5.89158619e-02,\n",
              "        -1.43004055e-02],\n",
              "       [ 1.00000000e+00,  2.93187718e+00,  8.59590379e+00,\n",
              "         2.52021341e+01],\n",
              "       [ 1.00000000e+00,  1.42074529e+00,  2.01851719e+00,\n",
              "         2.86779879e+00],\n",
              "       [ 1.00000000e+00,  2.68710981e+00,  7.22055914e+00,\n",
              "         1.94024353e+01],\n",
              "       [ 1.00000000e+00, -8.38970062e-02,  7.03870765e-03,\n",
              "        -5.90526499e-04],\n",
              "       [ 1.00000000e+00,  2.29291151e+00,  5.25744320e+00,\n",
              "         1.20548520e+01],\n",
              "       [ 1.00000000e+00, -2.50594936e+00,  6.27978219e+00,\n",
              "        -1.57368162e+01],\n",
              "       [ 1.00000000e+00,  2.78380399e+00,  7.74956465e+00,\n",
              "         2.15732690e+01],\n",
              "       [ 1.00000000e+00,  1.34877274e+00,  1.81918791e+00,\n",
              "         2.45367107e+00],\n",
              "       [ 1.00000000e+00,  2.52086942e+00,  6.35478263e+00,\n",
              "         1.60195772e+01],\n",
              "       [ 1.00000000e+00,  7.41850963e-01,  5.50342851e-01,\n",
              "         4.08272374e-01],\n",
              "       [ 1.00000000e+00,  2.73450874e+00,  7.47753804e+00,\n",
              "         2.04473931e+01],\n",
              "       [ 1.00000000e+00,  2.27781673e+00,  5.18844907e+00,\n",
              "         1.18183361e+01],\n",
              "       [ 1.00000000e+00,  2.76352437e+00,  7.63706696e+00,\n",
              "         2.11052207e+01],\n",
              "       [ 1.00000000e+00,  2.67176977e+00,  7.13835369e+00,\n",
              "         1.90720376e+01],\n",
              "       [ 1.00000000e+00, -2.97531199e+00,  8.85248144e+00,\n",
              "        -2.63388942e+01],\n",
              "       [ 1.00000000e+00, -1.59189183e+00,  2.53411959e+00,\n",
              "        -4.03404426e+00],\n",
              "       [ 1.00000000e+00,  5.51850420e-01,  3.04538886e-01,\n",
              "         1.68059912e-01],\n",
              "       [ 1.00000000e+00, -2.15612361e+00,  4.64886903e+00,\n",
              "        -1.00235363e+01],\n",
              "       [ 1.00000000e+00,  2.53044650e+00,  6.40315951e+00,\n",
              "         1.62028526e+01],\n",
              "       [ 1.00000000e+00, -2.26923103e-01,  5.14940946e-02,\n",
              "        -1.16851997e-02],\n",
              "       [ 1.00000000e+00,  2.22159621e+00,  4.93548974e+00,\n",
              "         1.09646653e+01],\n",
              "       [ 1.00000000e+00,  2.68008341e+00,  7.18284706e+00,\n",
              "         1.92506292e+01],\n",
              "       [ 1.00000000e+00, -2.58773304e+00,  6.69636229e+00,\n",
              "        -1.73283980e+01],\n",
              "       [ 1.00000000e+00, -2.98223468e+00,  8.89372369e+00,\n",
              "        -2.65231712e+01],\n",
              "       [ 1.00000000e+00,  2.25115510e+00,  5.06769929e+00,\n",
              "         1.14081771e+01],\n",
              "       [ 1.00000000e+00,  2.82822093e+00,  7.99883364e+00,\n",
              "         2.26224687e+01],\n",
              "       [ 1.00000000e+00,  2.34115455e+00,  5.48100462e+00,\n",
              "         1.28318789e+01]])"
            ]
          },
          "metadata": {},
          "execution_count": 64
        }
      ]
    },
    {
      "cell_type": "code",
      "source": [
        "from sklearn.metrics import r2_score\n",
        "regression=LinearRegression()\n",
        "regression.fit(X_train_poly,y_train)\n",
        "y_pred=regression.predict(X_test_poly)\n",
        "score=r2_score(y_test,y_pred)\n",
        "print(score)"
      ],
      "metadata": {
        "colab": {
          "base_uri": "https://localhost:8080/"
        },
        "id": "LlBw9JfYSEne",
        "outputId": "d3520d61-f433-441c-aaab-352400900bd0"
      },
      "execution_count": 65,
      "outputs": [
        {
          "output_type": "stream",
          "name": "stdout",
          "text": [
            "0.8991975717021804\n"
          ]
        }
      ]
    },
    {
      "cell_type": "code",
      "source": [
        "#prediction for new dataset\n",
        "X_new=np.linspace(-3,3,200).reshape(200, 1)\n",
        "X_new_poly=poly.transform(X_new)"
      ],
      "metadata": {
        "id": "J5lIV5wfSmnJ"
      },
      "execution_count": 66,
      "outputs": []
    },
    {
      "cell_type": "code",
      "source": [
        "y_new=regression.predict(X_new_poly)\n",
        "plt.plot(X_new,y_new,'r-',linewidth=2,label=\"predictions\")\n",
        "plt.plot(X_train,y_train,\"b.\",label=\"training points\")\n",
        "plt.plot(X_test2,y_test,'g.',label=\"Testing points\")\n",
        "plt.xlabel(\"X\")\n",
        "plt.ylabel(\"y\")\n",
        "plt.legend()\n",
        "plt.show()"
      ],
      "metadata": {
        "colab": {
          "base_uri": "https://localhost:8080/",
          "height": 449
        },
        "id": "_KIoV8_WS--O",
        "outputId": "660f9601-7b73-40fe-877f-f5ac54f7bf6d"
      },
      "execution_count": 68,
      "outputs": [
        {
          "output_type": "display_data",
          "data": {
            "text/plain": [
              "<Figure size 640x480 with 1 Axes>"
            ],
            "image/png": "[encoded data removed]"
          },
          "metadata": {}
        }
      ]
    }
  ]
}